{
 "cells": [
  {
   "cell_type": "code",
   "execution_count": 3,
   "metadata": {},
   "outputs": [],
   "source": [
    "import pandas as pd\n",
    "import numpy as np\n",
    "import matplotlib.pyplot as plt\n",
    "import warnings\n",
    "warnings.filterwarnings('ignore')"
   ]
  },
  {
   "cell_type": "code",
   "execution_count": 4,
   "metadata": {},
   "outputs": [],
   "source": [
    "sets_df = pd.read_csv(\"C:/Users/Public/Documents/JamieJ042.github.io/assets/datasets/LegoProject/sets.csv\")\n",
    "themes_df = pd.read_csv(\"C:/Users/Public/Documents/JamieJ042.github.io/assets/datasets/LegoProject/themes.csv\")"
   ]
  },
  {
   "cell_type": "code",
   "execution_count": 5,
   "metadata": {},
   "outputs": [
    {
     "data": {
      "text/html": [
       "<div>\n",
       "<style scoped>\n",
       "    .dataframe tbody tr th:only-of-type {\n",
       "        vertical-align: middle;\n",
       "    }\n",
       "\n",
       "    .dataframe tbody tr th {\n",
       "        vertical-align: top;\n",
       "    }\n",
       "\n",
       "    .dataframe thead th {\n",
       "        text-align: right;\n",
       "    }\n",
       "</style>\n",
       "<table border=\"1\" class=\"dataframe\">\n",
       "  <thead>\n",
       "    <tr style=\"text-align: right;\">\n",
       "      <th></th>\n",
       "      <th>set_num</th>\n",
       "      <th>name</th>\n",
       "      <th>year</th>\n",
       "      <th>theme_id</th>\n",
       "      <th>num_parts</th>\n",
       "    </tr>\n",
       "  </thead>\n",
       "  <tbody>\n",
       "    <tr>\n",
       "      <th>0</th>\n",
       "      <td>00-1</td>\n",
       "      <td>Weetabix Castle</td>\n",
       "      <td>1970</td>\n",
       "      <td>414</td>\n",
       "      <td>471</td>\n",
       "    </tr>\n",
       "    <tr>\n",
       "      <th>1</th>\n",
       "      <td>0011-2</td>\n",
       "      <td>Town Mini-Figures</td>\n",
       "      <td>1978</td>\n",
       "      <td>84</td>\n",
       "      <td>12</td>\n",
       "    </tr>\n",
       "    <tr>\n",
       "      <th>2</th>\n",
       "      <td>0011-3</td>\n",
       "      <td>Castle 2 for 1 Bonus Offer</td>\n",
       "      <td>1987</td>\n",
       "      <td>199</td>\n",
       "      <td>2</td>\n",
       "    </tr>\n",
       "    <tr>\n",
       "      <th>3</th>\n",
       "      <td>0012-1</td>\n",
       "      <td>Space Mini-Figures</td>\n",
       "      <td>1979</td>\n",
       "      <td>143</td>\n",
       "      <td>12</td>\n",
       "    </tr>\n",
       "    <tr>\n",
       "      <th>4</th>\n",
       "      <td>0013-1</td>\n",
       "      <td>Space Mini-Figures</td>\n",
       "      <td>1979</td>\n",
       "      <td>143</td>\n",
       "      <td>12</td>\n",
       "    </tr>\n",
       "  </tbody>\n",
       "</table>\n",
       "</div>"
      ],
      "text/plain": [
       "  set_num                        name  year  theme_id  num_parts\n",
       "0    00-1             Weetabix Castle  1970       414        471\n",
       "1  0011-2           Town Mini-Figures  1978        84         12\n",
       "2  0011-3  Castle 2 for 1 Bonus Offer  1987       199          2\n",
       "3  0012-1          Space Mini-Figures  1979       143         12\n",
       "4  0013-1          Space Mini-Figures  1979       143         12"
      ]
     },
     "execution_count": 5,
     "metadata": {},
     "output_type": "execute_result"
    }
   ],
   "source": [
    "sets_df.head()\n"
   ]
  },
  {
   "cell_type": "code",
   "execution_count": 6,
   "metadata": {},
   "outputs": [
    {
     "data": {
      "text/html": [
       "<div>\n",
       "<style scoped>\n",
       "    .dataframe tbody tr th:only-of-type {\n",
       "        vertical-align: middle;\n",
       "    }\n",
       "\n",
       "    .dataframe tbody tr th {\n",
       "        vertical-align: top;\n",
       "    }\n",
       "\n",
       "    .dataframe thead th {\n",
       "        text-align: right;\n",
       "    }\n",
       "</style>\n",
       "<table border=\"1\" class=\"dataframe\">\n",
       "  <thead>\n",
       "    <tr style=\"text-align: right;\">\n",
       "      <th></th>\n",
       "      <th>id</th>\n",
       "      <th>name</th>\n",
       "      <th>parent_id</th>\n",
       "    </tr>\n",
       "  </thead>\n",
       "  <tbody>\n",
       "    <tr>\n",
       "      <th>0</th>\n",
       "      <td>1</td>\n",
       "      <td>Technic</td>\n",
       "      <td>NaN</td>\n",
       "    </tr>\n",
       "    <tr>\n",
       "      <th>1</th>\n",
       "      <td>2</td>\n",
       "      <td>Arctic Technic</td>\n",
       "      <td>1.0</td>\n",
       "    </tr>\n",
       "    <tr>\n",
       "      <th>2</th>\n",
       "      <td>3</td>\n",
       "      <td>Competition</td>\n",
       "      <td>1.0</td>\n",
       "    </tr>\n",
       "    <tr>\n",
       "      <th>3</th>\n",
       "      <td>4</td>\n",
       "      <td>Expert Builder</td>\n",
       "      <td>1.0</td>\n",
       "    </tr>\n",
       "    <tr>\n",
       "      <th>4</th>\n",
       "      <td>5</td>\n",
       "      <td>Model</td>\n",
       "      <td>1.0</td>\n",
       "    </tr>\n",
       "  </tbody>\n",
       "</table>\n",
       "</div>"
      ],
      "text/plain": [
       "   id            name  parent_id\n",
       "0   1         Technic        NaN\n",
       "1   2  Arctic Technic        1.0\n",
       "2   3     Competition        1.0\n",
       "3   4  Expert Builder        1.0\n",
       "4   5           Model        1.0"
      ]
     },
     "execution_count": 6,
     "metadata": {},
     "output_type": "execute_result"
    }
   ],
   "source": [
    "themes_df.head()"
   ]
  },
  {
   "cell_type": "code",
   "execution_count": 7,
   "metadata": {},
   "outputs": [],
   "source": [
    "sets_df = sets_df.rename(columns={'name': 'Sets_name'})\n",
    "themes_df = themes_df.rename(columns={'name': 'Themes_name'})"
   ]
  },
  {
   "cell_type": "code",
   "execution_count": 8,
   "metadata": {},
   "outputs": [
    {
     "data": {
      "text/html": [
       "<div>\n",
       "<style scoped>\n",
       "    .dataframe tbody tr th:only-of-type {\n",
       "        vertical-align: middle;\n",
       "    }\n",
       "\n",
       "    .dataframe tbody tr th {\n",
       "        vertical-align: top;\n",
       "    }\n",
       "\n",
       "    .dataframe thead th {\n",
       "        text-align: right;\n",
       "    }\n",
       "</style>\n",
       "<table border=\"1\" class=\"dataframe\">\n",
       "  <thead>\n",
       "    <tr style=\"text-align: right;\">\n",
       "      <th></th>\n",
       "      <th>set_num</th>\n",
       "      <th>Sets_name</th>\n",
       "      <th>year</th>\n",
       "      <th>theme_id</th>\n",
       "      <th>num_parts</th>\n",
       "      <th>id</th>\n",
       "      <th>Themes_name</th>\n",
       "      <th>parent_id</th>\n",
       "    </tr>\n",
       "  </thead>\n",
       "  <tbody>\n",
       "    <tr>\n",
       "      <th>0</th>\n",
       "      <td>00-1</td>\n",
       "      <td>Weetabix Castle</td>\n",
       "      <td>1970</td>\n",
       "      <td>414</td>\n",
       "      <td>471</td>\n",
       "      <td>414</td>\n",
       "      <td>Castle</td>\n",
       "      <td>411.0</td>\n",
       "    </tr>\n",
       "    <tr>\n",
       "      <th>1</th>\n",
       "      <td>0011-2</td>\n",
       "      <td>Town Mini-Figures</td>\n",
       "      <td>1978</td>\n",
       "      <td>84</td>\n",
       "      <td>12</td>\n",
       "      <td>84</td>\n",
       "      <td>Supplemental</td>\n",
       "      <td>67.0</td>\n",
       "    </tr>\n",
       "    <tr>\n",
       "      <th>2</th>\n",
       "      <td>0011-3</td>\n",
       "      <td>Castle 2 for 1 Bonus Offer</td>\n",
       "      <td>1987</td>\n",
       "      <td>199</td>\n",
       "      <td>2</td>\n",
       "      <td>199</td>\n",
       "      <td>Lion Knights</td>\n",
       "      <td>186.0</td>\n",
       "    </tr>\n",
       "    <tr>\n",
       "      <th>3</th>\n",
       "      <td>0012-1</td>\n",
       "      <td>Space Mini-Figures</td>\n",
       "      <td>1979</td>\n",
       "      <td>143</td>\n",
       "      <td>12</td>\n",
       "      <td>143</td>\n",
       "      <td>Supplemental</td>\n",
       "      <td>126.0</td>\n",
       "    </tr>\n",
       "    <tr>\n",
       "      <th>4</th>\n",
       "      <td>0013-1</td>\n",
       "      <td>Space Mini-Figures</td>\n",
       "      <td>1979</td>\n",
       "      <td>143</td>\n",
       "      <td>12</td>\n",
       "      <td>143</td>\n",
       "      <td>Supplemental</td>\n",
       "      <td>126.0</td>\n",
       "    </tr>\n",
       "    <tr>\n",
       "      <th>...</th>\n",
       "      <td>...</td>\n",
       "      <td>...</td>\n",
       "      <td>...</td>\n",
       "      <td>...</td>\n",
       "      <td>...</td>\n",
       "      <td>...</td>\n",
       "      <td>...</td>\n",
       "      <td>...</td>\n",
       "    </tr>\n",
       "    <tr>\n",
       "      <th>11668</th>\n",
       "      <td>Wauwatosa-1</td>\n",
       "      <td>LEGO Store Grand Opening Exclusive Set, Mayfai...</td>\n",
       "      <td>2012</td>\n",
       "      <td>408</td>\n",
       "      <td>15</td>\n",
       "      <td>408</td>\n",
       "      <td>LEGO Brand Store</td>\n",
       "      <td>NaN</td>\n",
       "    </tr>\n",
       "    <tr>\n",
       "      <th>11669</th>\n",
       "      <td>WHITEHOUSE-1</td>\n",
       "      <td>Micro White House</td>\n",
       "      <td>2015</td>\n",
       "      <td>598</td>\n",
       "      <td>59</td>\n",
       "      <td>598</td>\n",
       "      <td>Promotional</td>\n",
       "      <td>NaN</td>\n",
       "    </tr>\n",
       "    <tr>\n",
       "      <th>11670</th>\n",
       "      <td>Wiesbaden-1</td>\n",
       "      <td>LEGO Store Grand Opening Exclusive Set, Wiesba...</td>\n",
       "      <td>2010</td>\n",
       "      <td>408</td>\n",
       "      <td>146</td>\n",
       "      <td>408</td>\n",
       "      <td>LEGO Brand Store</td>\n",
       "      <td>NaN</td>\n",
       "    </tr>\n",
       "    <tr>\n",
       "      <th>11671</th>\n",
       "      <td>WishingWell-1</td>\n",
       "      <td>Wishing Well [Toys R Us Promo]</td>\n",
       "      <td>2013</td>\n",
       "      <td>494</td>\n",
       "      <td>28</td>\n",
       "      <td>494</td>\n",
       "      <td>Friends</td>\n",
       "      <td>NaN</td>\n",
       "    </tr>\n",
       "    <tr>\n",
       "      <th>11672</th>\n",
       "      <td>wwgp1-1</td>\n",
       "      <td>Wild West Limited Edition Gift Pack</td>\n",
       "      <td>1996</td>\n",
       "      <td>476</td>\n",
       "      <td>3</td>\n",
       "      <td>476</td>\n",
       "      <td>Cowboys</td>\n",
       "      <td>475.0</td>\n",
       "    </tr>\n",
       "  </tbody>\n",
       "</table>\n",
       "<p>11673 rows × 8 columns</p>\n",
       "</div>"
      ],
      "text/plain": [
       "             set_num                                          Sets_name  year  \\\n",
       "0               00-1                                    Weetabix Castle  1970   \n",
       "1             0011-2                                  Town Mini-Figures  1978   \n",
       "2             0011-3                         Castle 2 for 1 Bonus Offer  1987   \n",
       "3             0012-1                                 Space Mini-Figures  1979   \n",
       "4             0013-1                                 Space Mini-Figures  1979   \n",
       "...              ...                                                ...   ...   \n",
       "11668    Wauwatosa-1  LEGO Store Grand Opening Exclusive Set, Mayfai...  2012   \n",
       "11669   WHITEHOUSE-1                                  Micro White House  2015   \n",
       "11670    Wiesbaden-1  LEGO Store Grand Opening Exclusive Set, Wiesba...  2010   \n",
       "11671  WishingWell-1                     Wishing Well [Toys R Us Promo]  2013   \n",
       "11672        wwgp1-1                Wild West Limited Edition Gift Pack  1996   \n",
       "\n",
       "       theme_id  num_parts   id       Themes_name  parent_id  \n",
       "0           414        471  414            Castle      411.0  \n",
       "1            84         12   84      Supplemental       67.0  \n",
       "2           199          2  199      Lion Knights      186.0  \n",
       "3           143         12  143      Supplemental      126.0  \n",
       "4           143         12  143      Supplemental      126.0  \n",
       "...         ...        ...  ...               ...        ...  \n",
       "11668       408         15  408  LEGO Brand Store        NaN  \n",
       "11669       598         59  598       Promotional        NaN  \n",
       "11670       408        146  408  LEGO Brand Store        NaN  \n",
       "11671       494         28  494           Friends        NaN  \n",
       "11672       476          3  476           Cowboys      475.0  \n",
       "\n",
       "[11673 rows x 8 columns]"
      ]
     },
     "execution_count": 8,
     "metadata": {},
     "output_type": "execute_result"
    }
   ],
   "source": [
    "merged_df = pd.merge(sets_df, themes_df, left_on='theme_id', right_on='id')\n",
    "merged_df"
   ]
  },
  {
   "cell_type": "code",
   "execution_count": 9,
   "metadata": {},
   "outputs": [
    {
     "name": "stdout",
     "output_type": "stream",
     "text": [
      "<class 'pandas.core.frame.DataFrame'>\n",
      "RangeIndex: 11673 entries, 0 to 11672\n",
      "Data columns (total 8 columns):\n",
      " #   Column       Non-Null Count  Dtype  \n",
      "---  ------       --------------  -----  \n",
      " 0   set_num      11673 non-null  object \n",
      " 1   Sets_name    11673 non-null  object \n",
      " 2   year         11673 non-null  int64  \n",
      " 3   theme_id     11673 non-null  int64  \n",
      " 4   num_parts    11673 non-null  int64  \n",
      " 5   id           11673 non-null  int64  \n",
      " 6   Themes_name  11673 non-null  object \n",
      " 7   parent_id    8046 non-null   float64\n",
      "dtypes: float64(1), int64(4), object(3)\n",
      "memory usage: 729.7+ KB\n"
     ]
    }
   ],
   "source": [
    "merged_df.info()"
   ]
  },
  {
   "cell_type": "code",
   "execution_count": 10,
   "metadata": {},
   "outputs": [
    {
     "name": "stdout",
     "output_type": "stream",
     "text": [
      "<class 'pandas.core.frame.DataFrame'>\n",
      "RangeIndex: 11673 entries, 0 to 11672\n",
      "Data columns (total 8 columns):\n",
      " #   Column       Non-Null Count  Dtype  \n",
      "---  ------       --------------  -----  \n",
      " 0   set_num      11673 non-null  object \n",
      " 1   Sets_name    11673 non-null  object \n",
      " 2   year         11673 non-null  int64  \n",
      " 3   theme_id     11673 non-null  int64  \n",
      " 4   num_parts    11673 non-null  int64  \n",
      " 5   id           11673 non-null  int64  \n",
      " 6   Themes_name  11673 non-null  object \n",
      " 7   parent_id    8046 non-null   float64\n",
      "dtypes: float64(1), int64(4), object(3)\n",
      "memory usage: 729.7+ KB\n"
     ]
    }
   ],
   "source": [
    "main_df = merged_df.drop_duplicates()\n",
    "main_df.info()"
   ]
  },
  {
   "cell_type": "code",
   "execution_count": 11,
   "metadata": {},
   "outputs": [],
   "source": [
    "main_df = main_df.fillna('Unknown')\n"
   ]
  },
  {
   "cell_type": "code",
   "execution_count": 12,
   "metadata": {},
   "outputs": [
    {
     "data": {
      "text/plain": [
       "set_num        0\n",
       "Sets_name      0\n",
       "year           0\n",
       "theme_id       0\n",
       "num_parts      0\n",
       "id             0\n",
       "Themes_name    0\n",
       "parent_id      0\n",
       "dtype: int64"
      ]
     },
     "execution_count": 12,
     "metadata": {},
     "output_type": "execute_result"
    }
   ],
   "source": [
    "main_df.isnull().sum()"
   ]
  },
  {
   "cell_type": "markdown",
   "metadata": {},
   "source": [
    "# Sets Analysis "
   ]
  },
  {
   "cell_type": "code",
   "execution_count": 13,
   "metadata": {},
   "outputs": [
    {
     "data": {
      "text/plain": [
       "6938    1950\n",
       "6935    1950\n",
       "6959    1950\n",
       "6954    1950\n",
       "6957    1950\n",
       "Name: year, dtype: int64"
      ]
     },
     "execution_count": 13,
     "metadata": {},
     "output_type": "execute_result"
    }
   ],
   "source": [
    "main_df['year'].sort_values().head()"
   ]
  },
  {
   "cell_type": "code",
   "execution_count": 14,
   "metadata": {},
   "outputs": [
    {
     "data": {
      "text/html": [
       "<div>\n",
       "<style scoped>\n",
       "    .dataframe tbody tr th:only-of-type {\n",
       "        vertical-align: middle;\n",
       "    }\n",
       "\n",
       "    .dataframe tbody tr th {\n",
       "        vertical-align: top;\n",
       "    }\n",
       "\n",
       "    .dataframe thead th {\n",
       "        text-align: right;\n",
       "    }\n",
       "</style>\n",
       "<table border=\"1\" class=\"dataframe\">\n",
       "  <thead>\n",
       "    <tr style=\"text-align: right;\">\n",
       "      <th></th>\n",
       "      <th>set_num</th>\n",
       "      <th>Sets_name</th>\n",
       "      <th>year</th>\n",
       "      <th>theme_id</th>\n",
       "      <th>num_parts</th>\n",
       "      <th>id</th>\n",
       "      <th>Themes_name</th>\n",
       "      <th>parent_id</th>\n",
       "    </tr>\n",
       "  </thead>\n",
       "  <tbody>\n",
       "    <tr>\n",
       "      <th>6935</th>\n",
       "      <td>700.1.1-1</td>\n",
       "      <td>Individual 2 x 4 Bricks</td>\n",
       "      <td>1950</td>\n",
       "      <td>371</td>\n",
       "      <td>10</td>\n",
       "      <td>371</td>\n",
       "      <td>Supplemental</td>\n",
       "      <td>365.0</td>\n",
       "    </tr>\n",
       "    <tr>\n",
       "      <th>6938</th>\n",
       "      <td>700.1.2-1</td>\n",
       "      <td>Individual 2 x 2 Bricks</td>\n",
       "      <td>1950</td>\n",
       "      <td>371</td>\n",
       "      <td>9</td>\n",
       "      <td>371</td>\n",
       "      <td>Supplemental</td>\n",
       "      <td>365.0</td>\n",
       "    </tr>\n",
       "    <tr>\n",
       "      <th>6954</th>\n",
       "      <td>700.A-1</td>\n",
       "      <td>Automatic Binding Bricks Small Brick Set (Lego...</td>\n",
       "      <td>1950</td>\n",
       "      <td>366</td>\n",
       "      <td>24</td>\n",
       "      <td>366</td>\n",
       "      <td>Basic Set</td>\n",
       "      <td>365.0</td>\n",
       "    </tr>\n",
       "    <tr>\n",
       "      <th>6956</th>\n",
       "      <td>700.B.1-1</td>\n",
       "      <td>Individual 1 x 4 x 2 Window (without glass)</td>\n",
       "      <td>1950</td>\n",
       "      <td>371</td>\n",
       "      <td>7</td>\n",
       "      <td>371</td>\n",
       "      <td>Supplemental</td>\n",
       "      <td>365.0</td>\n",
       "    </tr>\n",
       "    <tr>\n",
       "      <th>6957</th>\n",
       "      <td>700.B.2-1</td>\n",
       "      <td>Individual 1 x 2 x 3 Window (without glass)</td>\n",
       "      <td>1950</td>\n",
       "      <td>371</td>\n",
       "      <td>7</td>\n",
       "      <td>371</td>\n",
       "      <td>Supplemental</td>\n",
       "      <td>365.0</td>\n",
       "    </tr>\n",
       "    <tr>\n",
       "      <th>6958</th>\n",
       "      <td>700.B.3-1</td>\n",
       "      <td>Individual 1 x 2 x 2 Window (without glass)</td>\n",
       "      <td>1950</td>\n",
       "      <td>371</td>\n",
       "      <td>7</td>\n",
       "      <td>371</td>\n",
       "      <td>Supplemental</td>\n",
       "      <td>365.0</td>\n",
       "    </tr>\n",
       "    <tr>\n",
       "      <th>6959</th>\n",
       "      <td>700.B.4-1</td>\n",
       "      <td>Individual 1 x 2 x 4 Door (without glass)</td>\n",
       "      <td>1950</td>\n",
       "      <td>371</td>\n",
       "      <td>7</td>\n",
       "      <td>371</td>\n",
       "      <td>Supplemental</td>\n",
       "      <td>365.0</td>\n",
       "    </tr>\n",
       "  </tbody>\n",
       "</table>\n",
       "</div>"
      ],
      "text/plain": [
       "        set_num                                          Sets_name  year  \\\n",
       "6935  700.1.1-1                            Individual 2 x 4 Bricks  1950   \n",
       "6938  700.1.2-1                            Individual 2 x 2 Bricks  1950   \n",
       "6954    700.A-1  Automatic Binding Bricks Small Brick Set (Lego...  1950   \n",
       "6956  700.B.1-1        Individual 1 x 4 x 2 Window (without glass)  1950   \n",
       "6957  700.B.2-1        Individual 1 x 2 x 3 Window (without glass)  1950   \n",
       "6958  700.B.3-1        Individual 1 x 2 x 2 Window (without glass)  1950   \n",
       "6959  700.B.4-1          Individual 1 x 2 x 4 Door (without glass)  1950   \n",
       "\n",
       "      theme_id  num_parts   id   Themes_name parent_id  \n",
       "6935       371         10  371  Supplemental     365.0  \n",
       "6938       371          9  371  Supplemental     365.0  \n",
       "6954       366         24  366     Basic Set     365.0  \n",
       "6956       371          7  371  Supplemental     365.0  \n",
       "6957       371          7  371  Supplemental     365.0  \n",
       "6958       371          7  371  Supplemental     365.0  \n",
       "6959       371          7  371  Supplemental     365.0  "
      ]
     },
     "execution_count": 14,
     "metadata": {},
     "output_type": "execute_result"
    }
   ],
   "source": [
    "main_df[main_df['year']==1950]"
   ]
  },
  {
   "cell_type": "code",
   "execution_count": 15,
   "metadata": {},
   "outputs": [
    {
     "data": {
      "text/html": [
       "<div>\n",
       "<style scoped>\n",
       "    .dataframe tbody tr th:only-of-type {\n",
       "        vertical-align: middle;\n",
       "    }\n",
       "\n",
       "    .dataframe tbody tr th {\n",
       "        vertical-align: top;\n",
       "    }\n",
       "\n",
       "    .dataframe thead th {\n",
       "        text-align: right;\n",
       "    }\n",
       "</style>\n",
       "<table border=\"1\" class=\"dataframe\">\n",
       "  <thead>\n",
       "    <tr style=\"text-align: right;\">\n",
       "      <th></th>\n",
       "      <th>set_num</th>\n",
       "      <th>Sets_name</th>\n",
       "      <th>year</th>\n",
       "      <th>theme_id</th>\n",
       "      <th>num_parts</th>\n",
       "      <th>id</th>\n",
       "      <th>Themes_name</th>\n",
       "      <th>parent_id</th>\n",
       "    </tr>\n",
       "  </thead>\n",
       "  <tbody>\n",
       "    <tr>\n",
       "      <th>170</th>\n",
       "      <td>10189-1</td>\n",
       "      <td>Taj Mahal</td>\n",
       "      <td>2008</td>\n",
       "      <td>276</td>\n",
       "      <td>5922</td>\n",
       "      <td>276</td>\n",
       "      <td>Sculptures</td>\n",
       "      <td>Unknown</td>\n",
       "    </tr>\n",
       "    <tr>\n",
       "      <th>11614</th>\n",
       "      <td>SWMP-1</td>\n",
       "      <td>Star Wars / M&amp;M Mosaic - Promo Set</td>\n",
       "      <td>2005</td>\n",
       "      <td>169</td>\n",
       "      <td>5461</td>\n",
       "      <td>169</td>\n",
       "      <td>Star Wars Episode 4/5/6</td>\n",
       "      <td>158.0</td>\n",
       "    </tr>\n",
       "    <tr>\n",
       "      <th>1337</th>\n",
       "      <td>2000409-1</td>\n",
       "      <td>Window Exploration Bag</td>\n",
       "      <td>2010</td>\n",
       "      <td>507</td>\n",
       "      <td>5200</td>\n",
       "      <td>507</td>\n",
       "      <td>Educational and Dacta</td>\n",
       "      <td>Unknown</td>\n",
       "    </tr>\n",
       "    <tr>\n",
       "      <th>161</th>\n",
       "      <td>10179-1</td>\n",
       "      <td>Millennium Falcon - UCS</td>\n",
       "      <td>2007</td>\n",
       "      <td>174</td>\n",
       "      <td>5195</td>\n",
       "      <td>174</td>\n",
       "      <td>Star Wars Episode 4/5/6</td>\n",
       "      <td>171.0</td>\n",
       "    </tr>\n",
       "    <tr>\n",
       "      <th>8322</th>\n",
       "      <td>75827-1</td>\n",
       "      <td>Firehouse Headquarters</td>\n",
       "      <td>2016</td>\n",
       "      <td>301</td>\n",
       "      <td>4640</td>\n",
       "      <td>301</td>\n",
       "      <td>Other</td>\n",
       "      <td>Unknown</td>\n",
       "    </tr>\n",
       "  </tbody>\n",
       "</table>\n",
       "</div>"
      ],
      "text/plain": [
       "         set_num                           Sets_name  year  theme_id  \\\n",
       "170      10189-1                           Taj Mahal  2008       276   \n",
       "11614     SWMP-1  Star Wars / M&M Mosaic - Promo Set  2005       169   \n",
       "1337   2000409-1              Window Exploration Bag  2010       507   \n",
       "161      10179-1             Millennium Falcon - UCS  2007       174   \n",
       "8322     75827-1              Firehouse Headquarters  2016       301   \n",
       "\n",
       "       num_parts   id              Themes_name parent_id  \n",
       "170         5922  276               Sculptures   Unknown  \n",
       "11614       5461  169  Star Wars Episode 4/5/6     158.0  \n",
       "1337        5200  507    Educational and Dacta   Unknown  \n",
       "161         5195  174  Star Wars Episode 4/5/6     171.0  \n",
       "8322        4640  301                    Other   Unknown  "
      ]
     },
     "execution_count": 15,
     "metadata": {},
     "output_type": "execute_result"
    }
   ],
   "source": [
    "main_df.sort_values('num_parts',ascending=False).head()"
   ]
  },
  {
   "cell_type": "code",
   "execution_count": 16,
   "metadata": {},
   "outputs": [
    {
     "data": {
      "text/html": [
       "<div>\n",
       "<style scoped>\n",
       "    .dataframe tbody tr th:only-of-type {\n",
       "        vertical-align: middle;\n",
       "    }\n",
       "\n",
       "    .dataframe tbody tr th {\n",
       "        vertical-align: top;\n",
       "    }\n",
       "\n",
       "    .dataframe thead th {\n",
       "        text-align: right;\n",
       "    }\n",
       "</style>\n",
       "<table border=\"1\" class=\"dataframe\">\n",
       "  <thead>\n",
       "    <tr style=\"text-align: right;\">\n",
       "      <th></th>\n",
       "      <th>set_num</th>\n",
       "      <th>Sets_name</th>\n",
       "      <th>theme_id</th>\n",
       "      <th>num_parts</th>\n",
       "      <th>id</th>\n",
       "      <th>Themes_name</th>\n",
       "      <th>parent_id</th>\n",
       "    </tr>\n",
       "    <tr>\n",
       "      <th>year</th>\n",
       "      <th></th>\n",
       "      <th></th>\n",
       "      <th></th>\n",
       "      <th></th>\n",
       "      <th></th>\n",
       "      <th></th>\n",
       "      <th></th>\n",
       "    </tr>\n",
       "  </thead>\n",
       "  <tbody>\n",
       "    <tr>\n",
       "      <th>1950</th>\n",
       "      <td>7</td>\n",
       "      <td>7</td>\n",
       "      <td>7</td>\n",
       "      <td>7</td>\n",
       "      <td>7</td>\n",
       "      <td>7</td>\n",
       "      <td>7</td>\n",
       "    </tr>\n",
       "    <tr>\n",
       "      <th>1953</th>\n",
       "      <td>4</td>\n",
       "      <td>4</td>\n",
       "      <td>4</td>\n",
       "      <td>4</td>\n",
       "      <td>4</td>\n",
       "      <td>4</td>\n",
       "      <td>4</td>\n",
       "    </tr>\n",
       "    <tr>\n",
       "      <th>1954</th>\n",
       "      <td>14</td>\n",
       "      <td>14</td>\n",
       "      <td>14</td>\n",
       "      <td>14</td>\n",
       "      <td>14</td>\n",
       "      <td>14</td>\n",
       "      <td>14</td>\n",
       "    </tr>\n",
       "    <tr>\n",
       "      <th>1955</th>\n",
       "      <td>28</td>\n",
       "      <td>28</td>\n",
       "      <td>28</td>\n",
       "      <td>28</td>\n",
       "      <td>28</td>\n",
       "      <td>28</td>\n",
       "      <td>28</td>\n",
       "    </tr>\n",
       "    <tr>\n",
       "      <th>1956</th>\n",
       "      <td>12</td>\n",
       "      <td>12</td>\n",
       "      <td>12</td>\n",
       "      <td>12</td>\n",
       "      <td>12</td>\n",
       "      <td>12</td>\n",
       "      <td>12</td>\n",
       "    </tr>\n",
       "  </tbody>\n",
       "</table>\n",
       "</div>"
      ],
      "text/plain": [
       "      set_num  Sets_name  theme_id  num_parts  id  Themes_name  parent_id\n",
       "year                                                                     \n",
       "1950        7          7         7          7   7            7          7\n",
       "1953        4          4         4          4   4            4          4\n",
       "1954       14         14        14         14  14           14         14\n",
       "1955       28         28        28         28  28           28         28\n",
       "1956       12         12        12         12  12           12         12"
      ]
     },
     "execution_count": 16,
     "metadata": {},
     "output_type": "execute_result"
    }
   ],
   "source": [
    "sets_by_year = main_df.groupby('year').count()\n",
    "sets_by_year.head()"
   ]
  },
  {
   "cell_type": "code",
   "execution_count": 17,
   "metadata": {},
   "outputs": [
    {
     "data": {
      "image/png": "[encoded data removed]",
      "text/plain": [
       "<Figure size 640x480 with 1 Axes>"
      ]
     },
     "metadata": {},
     "output_type": "display_data"
    }
   ],
   "source": [
    "plt.plot(sets_by_year.index[:-2],sets_by_year['set_num'][:-2])\n",
    "plt.show()"
   ]
  },
  {
   "cell_type": "code",
   "execution_count": 18,
   "metadata": {},
   "outputs": [],
   "source": [
    "themes_by_year = main_df.groupby('year').agg({'theme_id' : pd.Series.nunique })"
   ]
  },
  {
   "cell_type": "code",
   "execution_count": 19,
   "metadata": {},
   "outputs": [
    {
     "data": {
      "image/png": "[encoded data removed]",
      "text/plain": [
       "<Figure size 640x480 with 1 Axes>"
      ]
     },
     "metadata": {},
     "output_type": "display_data"
    }
   ],
   "source": [
    "plt.plot(themes_by_year.index[:-2],themes_by_year['theme_id'][:-2])\n",
    "plt.show()"
   ]
  },
  {
   "cell_type": "code",
   "execution_count": 20,
   "metadata": {},
   "outputs": [
    {
     "data": {
      "image/png": "[encoded data removed]",
      "text/plain": [
       "<Figure size 640x480 with 2 Axes>"
      ]
     },
     "metadata": {},
     "output_type": "display_data"
    }
   ],
   "source": [
    "ax1 = plt.gca()\n",
    "ax2 = ax1.twinx()\n",
    "\n",
    "\n",
    "ax1.plot(sets_by_year.index[:-2],sets_by_year.set_num[:-2],color='r')\n",
    "ax2.plot(themes_by_year.index[:-2],themes_by_year.theme_id[:-2],color='g')\n",
    "\n",
    "\n",
    "ax1.set_xlabel('year')\n",
    "ax1.set_ylabel('number of sets',color='r')\n",
    "ax2.set_ylabel('number of themes',color='g')\n",
    "\n",
    "plt.show()"
   ]
  },
  {
   "cell_type": "code",
   "execution_count": 22,
   "metadata": {},
   "outputs": [],
   "source": [
    "parts_per_set = main_df.groupby('year').agg({'num_parts':pd.Series.mean})"
   ]
  },
  {
   "cell_type": "code",
   "execution_count": 23,
   "metadata": {},
   "outputs": [
    {
     "data": {
      "image/png": "[encoded data removed]",
      "text/plain": [
       "<Figure size 640x480 with 1 Axes>"
      ]
     },
     "metadata": {},
     "output_type": "display_data"
    }
   ],
   "source": [
    "plt.scatter(parts_per_set.index[:-2],parts_per_set.num_parts[:-2])\n",
    "plt.show()"
   ]
  },
  {
   "cell_type": "code",
   "execution_count": null,
   "metadata": {},
   "outputs": [],
   "source": []
  }
 ],
 "metadata": {
  "kernelspec": {
   "display_name": ".venv",
   "language": "python",
   "name": "python3"
  },
  "language_info": {
   "codemirror_mode": {
    "name": "ipython",
    "version": 3
   },
   "file_extension": ".py",
   "mimetype": "text/x-python",
   "name": "python",
   "nbconvert_exporter": "python",
   "pygments_lexer": "ipython3",
   "version": "3.12.9"
  }
 },
 "nbformat": 4,
 "nbformat_minor": 2
}
